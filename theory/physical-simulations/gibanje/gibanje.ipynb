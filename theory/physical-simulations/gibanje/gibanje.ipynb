{
 "cells": [
  {
   "cell_type": "markdown",
   "metadata": {},
   "source": [
    "# UVOD V PYTHON SIMULACIJO FIZIKALNIH PRIMEROV"
   ]
  },
  {
   "cell_type": "markdown",
   "metadata": {},
   "source": [
    "## GIBANJE\n",
    "\n",
    "![alt text](pictures\\enacbe-gibanja.png \"Title\")"
   ]
  },
  {
   "cell_type": "markdown",
   "metadata": {},
   "source": [
    "## IMPORTS"
   ]
  },
  {
   "cell_type": "code",
   "execution_count": 1,
   "metadata": {},
   "outputs": [],
   "source": [
    "import numpy as np\n",
    "import matplotlib.pyplot as plt\n",
    "\n",
    "# enable jupyter plots\n",
    "%matplotlib inline"
   ]
  },
  {
   "cell_type": "markdown",
   "metadata": {},
   "source": [
    "## NUMPY building data"
   ]
  },
  {
   "cell_type": "code",
   "execution_count": 2,
   "metadata": {},
   "outputs": [
    {
     "name": "stdout",
     "output_type": "stream",
     "text": [
      "[0, 1, 2, 3]\n",
      "[10, 11, 12, 13]\n",
      "vstack = vertical stack\n",
      "[[ 0  1  2  3]\n",
      " [10 11 12 13]]\n",
      "hstack = horizontal stack\n",
      "[ 0  1  2  3 10 11 12 13]\n"
     ]
    }
   ],
   "source": [
    "a = [0,1,2,3]\n",
    "b = [10,11,12,13]\n",
    "print(a)\n",
    "print(b)\n",
    "\n",
    "a_arr = np.array(a)\n",
    "b_arr = np.array(b)\n",
    "\n",
    "print('vstack = vertical stack')\n",
    "print(np.vstack((a,b)))\n",
    "\n",
    "print('hstack = horizontal stack')\n",
    "print(np.hstack((a,b)))"
   ]
  },
  {
   "cell_type": "code",
   "execution_count": 8,
   "metadata": {},
   "outputs": [],
   "source": [
    "# rezervacija praznega arraya\n",
    "data= np.empty((0,3))\n",
    "# števec\n",
    "i = 0"
   ]
  },
  {
   "cell_type": "code",
   "execution_count": 13,
   "metadata": {},
   "outputs": [
    {
     "data": {
      "text/plain": [
       "array([[  1.,   1.,   1.],\n",
       "       [  2.,   4.,   8.],\n",
       "       [  3.,   9.,  27.],\n",
       "       [  4.,  16.,  64.],\n",
       "       [  5.,  25., 125.]])"
      ]
     },
     "execution_count": 13,
     "metadata": {},
     "output_type": "execute_result"
    }
   ],
   "source": [
    "# vsakič ko poženemo celico se števec poceča za ena\n",
    "i = i + 1\n",
    "row = [i, i**2, i**3]\n",
    "# podatke zložimo v np.array ki predstavlja eno vrstico\n",
    "row = np.array(row)\n",
    "\n",
    "# vrstico dodamo zadnjim podatkom\n",
    "data = np.vstack((data,row))\n",
    "data"
   ]
  },
  {
   "cell_type": "code",
   "execution_count": 14,
   "metadata": {},
   "outputs": [
    {
     "data": {
      "text/plain": [
       "array([[ 0.,  0.,  0.],\n",
       "       [ 1.,  1.,  1.],\n",
       "       [ 2.,  4.,  8.],\n",
       "       [ 3.,  9., 27.],\n",
       "       [ 4., 16., 64.]])"
      ]
     },
     "execution_count": 14,
     "metadata": {},
     "output_type": "execute_result"
    }
   ],
   "source": [
    "# ko zlagamo podatke, moramo vnaprej poznati št stolpcev\n",
    "data= np.empty((0,3))\n",
    "\n",
    "for i in range(5):\n",
    "    # novi podatki\n",
    "    x = i\n",
    "    y1 = i**2\n",
    "    y2 = i**3\n",
    "    # podatke zložimo v np.array ki predstavlja eno vrstico\n",
    "    row = np.array([x,y1,y2])\n",
    "    # vrstico dodamo zadnjim podatkom\n",
    "    data = np.vstack((data,row))\n",
    "\n",
    "data"
   ]
  },
  {
   "cell_type": "markdown",
   "metadata": {},
   "source": [
    "### DOSTOPANJE DO VRSTICE PODATKOV"
   ]
  },
  {
   "cell_type": "code",
   "execution_count": 15,
   "metadata": {},
   "outputs": [
    {
     "name": "stdout",
     "output_type": "stream",
     "text": [
      "[0. 0. 0.]\n",
      "[1. 1. 1.]\n",
      "[ 4. 16. 64.]\n"
     ]
    }
   ],
   "source": [
    "print(data[0])\n",
    "print(data[1])\n",
    "print(data[-1])"
   ]
  },
  {
   "cell_type": "code",
   "execution_count": 177,
   "metadata": {},
   "outputs": [
    {
     "name": "stdout",
     "output_type": "stream",
     "text": [
      "[0. 0. 0.]\n",
      "[1. 1. 1.]\n",
      "[2. 4. 8.]\n",
      "[ 3.  9. 27.]\n",
      "[ 4. 16. 64.]\n"
     ]
    }
   ],
   "source": [
    "data[0]\n",
    "\n",
    "# vsak index je ena vrstica\n",
    "for vrstica in data:\n",
    "    print(vrstica)"
   ]
  },
  {
   "cell_type": "markdown",
   "metadata": {},
   "source": [
    "### DOSTOPANJE DO STOLPCA PODATKOV = TRANSPONIRANJE"
   ]
  },
  {
   "cell_type": "code",
   "execution_count": 16,
   "metadata": {},
   "outputs": [
    {
     "name": "stdout",
     "output_type": "stream",
     "text": [
      "[0. 1. 2. 3. 4.]\n",
      "[ 0.  1.  4.  9. 16.]\n",
      "[ 0.  1.  8. 27. 64.]\n"
     ]
    }
   ],
   "source": [
    "print(data.T[0])\n",
    "print(data.T[1])\n",
    "print(data.T[2])"
   ]
  },
  {
   "cell_type": "code",
   "execution_count": 17,
   "metadata": {},
   "outputs": [
    {
     "name": "stdout",
     "output_type": "stream",
     "text": [
      "[0. 1. 2. 3. 4.]\n",
      "[ 0.  1.  4.  9. 16.]\n",
      "[ 0.  1.  8. 27. 64.]\n"
     ]
    }
   ],
   "source": [
    "# če želiš dostopati do celotnega stolpca, moraš matriko transponirati\n",
    "# vsak index je en stolpec\n",
    "for stolpec in data.T:\n",
    "    print(stolpec)"
   ]
  },
  {
   "cell_type": "code",
   "execution_count": 19,
   "metadata": {},
   "outputs": [
    {
     "data": {
      "image/png": "[encoded data removed]",
      "text/plain": [
       "<Figure size 432x288 with 1 Axes>"
      ]
     },
     "metadata": {
      "needs_background": "light"
     },
     "output_type": "display_data"
    }
   ],
   "source": [
    "# narišemo podatke\n",
    "# podatke transponiramo, da dostopamo do stolpcev\n",
    "x = data.T[0]  \n",
    "y1 = data.T[1]  \n",
    "y2 = data.T[2]  \n",
    "\n",
    "plt.plot(x, y1, 'b.--', label = 'y1')\n",
    "plt.plot(x, y2, 'r.--', label = 'y2')\n",
    "plt.legend()\n",
    "plt.show()"
   ]
  },
  {
   "cell_type": "markdown",
   "metadata": {},
   "source": [
    "# PRIMERI NUMERIČNIH IZRAČUNOV ENAČB GIBANJA"
   ]
  },
  {
   "cell_type": "markdown",
   "metadata": {},
   "source": [
    "## ENAKOMERNO GIBANJE\n",
    "\n",
    "\\begin{equation*}\n",
    "    \\begin{array}{l}\n",
    "\n",
    "    a = 0  & \\text{ ... acceleration} \\\\\n",
    "    v = v_0 = const &  \\text{ ... velocity} \\\\\n",
    "    s = s_0 + v_0*t  & \\text{ ...path}\\\\\n",
    "\n",
    "    \\end{array}\n",
    "\\end{equation*}"
   ]
  },
  {
   "cell_type": "markdown",
   "metadata": {},
   "source": [
    "## Opis naloge\n",
    "\n",
    "Tekač teče s konstantno hitrostjo 10.8 km/h. Koliko preteče v času 1 minute. Izračunaj za časovne korake po 100ms."
   ]
  },
  {
   "cell_type": "code",
   "execution_count": 20,
   "metadata": {},
   "outputs": [
    {
     "name": "stdout",
     "output_type": "stream",
     "text": [
      "st_tock = 60.0\n"
     ]
    }
   ],
   "source": [
    "# vhodni podatki za izračun\n",
    "dt = 1       # časovni korak 100ms [s]\n",
    "t_total = 60   # celotni čas 1min = 60s\n",
    "st_tock = t_total/dt\n",
    "print(f'st_tock = {st_tock}')\n",
    "\n",
    "v_0 = 10.8 / 3.6  # začetna hitrost [m/s]"
   ]
  },
  {
   "cell_type": "markdown",
   "metadata": {},
   "source": [
    "### 1. NAČIN, najlažji, naredimo array časovnih korakov"
   ]
  },
  {
   "cell_type": "code",
   "execution_count": 23,
   "metadata": {},
   "outputs": [
    {
     "name": "stdout",
     "output_type": "stream",
     "text": [
      "[0 1] ... [59 60]\n",
      "[0. 3. 6.] ... [174. 177. 180.]\n"
     ]
    },
    {
     "data": {
      "image/png": "[encoded data removed]",
      "text/plain": [
       "<Figure size 432x288 with 1 Axes>"
      ]
     },
     "metadata": {
      "needs_background": "light"
     },
     "output_type": "display_data"
    },
    {
     "data": {
      "text/plain": [
       "180.0"
      ]
     },
     "execution_count": 23,
     "metadata": {},
     "output_type": "execute_result"
    }
   ],
   "source": [
    "# naredimo array časovnih točk\n",
    "t = np.arange(0, t_total+dt, dt)\n",
    "\n",
    "# izračunamo pot za vsako točko\n",
    "s = v_0 * t   # pot se enakomerno povečuje\n",
    "\n",
    "print(t[0:2], '...', t[-2:])\n",
    "print(s[:3], '...', s[-3:])\n",
    "\n",
    "# IZRIŠEMO PODATKE\n",
    "fig, ax = plt.subplots()\n",
    "\n",
    "# graf poti\n",
    "ax.plot(t, s)\n",
    "ax.set_title(\"pot\")\n",
    "ax.set_ylabel('m')\n",
    "ax.set_xlabel('t[s]')\n",
    "\n",
    "# grid na vse grafe\n",
    "ax.grid(True)\n",
    "\n",
    "# razmik med grafi\n",
    "plt.tight_layout()\n",
    "# display\n",
    "plt.show()\n",
    "\n",
    "s = 60*10.8/3.6\n",
    "s"
   ]
  },
  {
   "cell_type": "markdown",
   "metadata": {},
   "source": [
    "### 2. NAČIN, while/for zanka ki se zavrti za vsak časovni korak"
   ]
  },
  {
   "cell_type": "code",
   "execution_count": 133,
   "metadata": {},
   "outputs": [
    {
     "data": {
      "text/plain": [
       "[<matplotlib.lines.Line2D at 0x2b095ba95b0>]"
      ]
     },
     "execution_count": 133,
     "metadata": {},
     "output_type": "execute_result"
    },
    {
     "data": {
      "image/png": "[encoded data removed]",
      "text/plain": [
       "<Figure size 432x288 with 1 Axes>"
      ]
     },
     "metadata": {
      "needs_background": "light"
     },
     "output_type": "display_data"
    }
   ],
   "source": [
    "# imeli bomo 2 stolpce, \n",
    "data = np.empty((0,2))\n",
    "t = 0             # trenutni čas \n",
    "s = 0             # trenutna  pot\n",
    "\n",
    "# zanko poganjamo dokler ne simuliramo celotnega časa \n",
    "while t <= t_total:\n",
    "    # hitrost --> pot\n",
    "    s = s + v_0 * dt   # pot se enakomerno povečuje\n",
    "\n",
    "    # podatki ene iteracije so ena vrstica\n",
    "    vrstica = np.array([t, s])\n",
    "\n",
    "    # vrstico dodamo k podatkom\n",
    "    data = np.vstack((data, vrstica))\n",
    "\n",
    "    # čas povečamo za dt in začnemo novo iteracijo\n",
    "    t += dt\n",
    "\n",
    "# podatke transponiramo, da lažje dostopamo do stolpcev\n",
    "t_arr = data.T[0]  \n",
    "s_arr = data.T[1]  \n",
    "\n",
    "# graf poti\n",
    "plt.plot(t_arr, s_arr)"
   ]
  },
  {
   "cell_type": "markdown",
   "metadata": {},
   "source": [
    "### Naloga\n",
    "\n",
    "Avto se vozi 10 sekund s hitrostjo 60km/h, nato 30 sekund 100km/h, nato 20 sekund 20km/h. Izračunaj celotno prevoženo pot.\n",
    "pospeškov ne upoštevaj."
   ]
  },
  {
   "cell_type": "code",
   "execution_count": 134,
   "metadata": {},
   "outputs": [
    {
     "data": {
      "image/png": "[encoded data removed]",
      "text/plain": [
       "<Figure size 432x288 with 1 Axes>"
      ]
     },
     "metadata": {
      "needs_background": "light"
     },
     "output_type": "display_data"
    },
    {
     "name": "stdout",
     "output_type": "stream",
     "text": [
      "1110.000000000023\n"
     ]
    }
   ],
   "source": [
    "# 0s  ... 10s    60 km/h\n",
    "# 10s ... 40s   100 km/h\n",
    "# 40s ... 60s    20 km/h\n",
    "\n",
    "v_1 = 60 / 3.6   # [m/s]\n",
    "v_2 = 100 / 3.6  # [m/s]\n",
    "v_3 = 20 / 3.6   # [m/s]\n",
    "\n",
    "t_1 = 10 # [s]\n",
    "t_2 = 30 # [s]\n",
    "t_3 = 20 # [s]\n",
    "t_total = t_1 + t_2 + t_3\n",
    "\n",
    "# imeli bomo 2 stolpce, \n",
    "data = np.empty((0,2))\n",
    "t = 0             # trenutni čas \n",
    "s = 0             # trenutna  pot\n",
    "\n",
    "# zanko poganjamo dokler ne simuliramo celotnega časa \n",
    "while t <= t_total:\n",
    "    if t < 10:\n",
    "        v = v_1\n",
    "    if 10 < t < 40:\n",
    "        v = v_2\n",
    "    if 40 < t: \n",
    "        v = v_3\n",
    "\n",
    "    # hitrost --> pot\n",
    "    s = s + v * dt   # pot se enakomerno povečuje\n",
    "\n",
    "    # podatki ene iteracije so ena vrstica\n",
    "    vrstica = np.array([t, s])\n",
    "\n",
    "    # vrstico dodamo k podatkom\n",
    "    data = np.vstack((data, vrstica))\n",
    "\n",
    "    # čas povečamo za dt in začnemo novo iteracijo\n",
    "    t += dt\n",
    "\n",
    "# podatke transponiramo, da lažje dostopamo do stolpcev\n",
    "t_arr = data.T[0]  \n",
    "s_arr = data.T[1]  \n",
    "\n",
    "# graf poti\n",
    "# IZRIŠEMO PODATKE\n",
    "fig, ax = plt.subplots()\n",
    "\n",
    "ax.plot(t_arr, s_arr)\n",
    "ax.axvline(10, color='r', linestyle='--')\n",
    "ax.axvline(40, color='r', linestyle='--')\n",
    "ax.set_ylabel('distance [m]')\n",
    "ax.set_xlabel('t[s]')\n",
    "ax.grid()\n",
    "plt.show()\n",
    "\n",
    "print(s_arr.max())"
   ]
  },
  {
   "cell_type": "markdown",
   "metadata": {},
   "source": [
    "# ENAKOMERNO POSPEŠENO GIBANJE\n",
    "\n",
    "Pri različnih pospeških je vsaka časovni trenutek odvisen od trenutka pred njim, zato je včasih potrebno simulacije delati v for/while zanki.\n",
    "\n",
    "\\begin{equation*}\n",
    "    \\begin{array}{l}\n",
    "\n",
    "    a = const  & \\text{ ... acceleration} \\\\\n",
    "    v = a*t &  \\text{ ... velocity} \\\\\n",
    "    s = s_0 + v_0*t+0.5*a*t^2  & \\text{ ...path}\\\\   \n",
    "\n",
    "    \\end{array}\n",
    "\\end{equation*}"
   ]
  },
  {
   "cell_type": "code",
   "execution_count": 25,
   "metadata": {},
   "outputs": [
    {
     "data": {
      "text/plain": [
       "150.0"
      ]
     },
     "execution_count": 25,
     "metadata": {},
     "output_type": "execute_result"
    }
   ],
   "source": [
    "s_0 = 0\n",
    "v_0 = 0\n",
    "a_0 = 3\n",
    "t = 10\n",
    "\n",
    "s = s_0 + v_0*t + 0.5*a_0*t**2\n",
    "s"
   ]
  },
  {
   "cell_type": "markdown",
   "metadata": {},
   "source": [
    "## Opis naloge\n",
    "Avto pospešuje 10 sekund. Kakšna je njegova končna hitrost in koliko poti je prevozil v tem času pospeševanja ? \n",
    "Average acceleration of ordinary car is between 3 and 4 m/s^2."
   ]
  },
  {
   "cell_type": "code",
   "execution_count": 33,
   "metadata": {},
   "outputs": [
    {
     "name": "stdout",
     "output_type": "stream",
     "text": [
      "st_tock = 10000.0\n"
     ]
    },
    {
     "data": {
      "image/png": "[encoded data removed]",
      "text/plain": [
       "<Figure size 432x288 with 1 Axes>"
      ]
     },
     "metadata": {
      "needs_background": "light"
     },
     "output_type": "display_data"
    },
    {
     "data": {
      "text/plain": [
       "array([149.925009, 149.955003, 149.985   , 150.015   , 150.045003])"
      ]
     },
     "execution_count": 33,
     "metadata": {},
     "output_type": "execute_result"
    }
   ],
   "source": [
    "# KONSTANTE\n",
    "dt = 0.001       # časovni korak 100ms [s]\n",
    "t_total = 10   # celotni čas 1min = 60s\n",
    "st_tock = t_total/dt\n",
    "print(f'st_tock = {st_tock}')\n",
    "\n",
    "a_0 = 3  # začetni pospešek [m/s^2]\n",
    "v_0 = 0  # začetna hitrost [m/s]\n",
    "\n",
    "# imeli bomo 3 stolpce, \n",
    "data = np.empty((0,3))\n",
    "t = 0               # trenutni čas \n",
    "v = v_0               # trenutna hitrost\n",
    "s = 0               # trenutna pot\n",
    "\n",
    "# zanko poganjamo dokler ne simuliramo celotnega časa \n",
    "while t <= t_total:\n",
    "    # pospešsk --> hitrost\n",
    "    v = v + a_0*dt # v = const\n",
    "\n",
    "    # hitrost --> pot\n",
    "    s = s + v * dt   # pot se enakomerno povečuje\n",
    "\n",
    "    # podatki ene iteracije so ena vrstica vrstico\n",
    "    vrstica = np.array([t, v, s])\n",
    "\n",
    "    # vrstico dodamo k podatkom\n",
    "    data = np.vstack((data, vrstica))\n",
    "    \n",
    "    # čas povečamo za dt in začnemo novo iteracijo\n",
    "    t += dt\n",
    "\n",
    "# podatke transponiramo, da lažje dostopamo do stolpcev\n",
    "t_arr = data.T[0]  \n",
    "v_arr = data.T[1]  \n",
    "s_arr = data.T[2]  \n",
    "\n",
    "# IZRIŠEMO PODATKE\n",
    "figure, ax = plt.subplots()\n",
    "\n",
    "ax.plot(t_arr, v_arr, label = 'v [m/s]')\n",
    "ax.plot(t_arr, s_arr, label = 's [m]')\n",
    "\n",
    "ax.legend()\n",
    "\n",
    "ax.set_ylabel('velocity v , distance s')\n",
    "ax.set_xlabel('t[s]')\n",
    "\n",
    "# grid na vse grafe\n",
    "plt.grid()\n",
    "\n",
    "# razmiki\n",
    "plt.tight_layout()\n",
    "# display\n",
    "plt.show()\n",
    "\n",
    "s_arr[-5:]\n"
   ]
  },
  {
   "cell_type": "markdown",
   "metadata": {},
   "source": [
    "# ENAKOMERNO POJEMAJOČE GIBANJE\n",
    "\n",
    "\\begin{equation*}\n",
    "    \\begin{array}{l}\n",
    "\n",
    "    a = const  & \\text{ ... acceleration} \\\\\n",
    "    v = a*t &  \\text{ ... velocity} \\\\\n",
    "    s = s_0 + v_0*t-0.5*a*t^2  & \\text{ ...path}\\\\   \n",
    "\n",
    "    \\end{array}\n",
    "\\end{equation*}"
   ]
  },
  {
   "cell_type": "markdown",
   "metadata": {},
   "source": [
    "## OPIS NALOGE: \n",
    "avto se vozi s hitrostjo 10m/s in začne zavirati s pospeškom -3m/s^2. po koliko časa se avto ustavi."
   ]
  },
  {
   "cell_type": "code",
   "execution_count": 34,
   "metadata": {},
   "outputs": [
    {
     "data": {
      "image/png": "[encoded data removed]",
      "text/plain": [
       "<Figure size 432x288 with 1 Axes>"
      ]
     },
     "metadata": {
      "needs_background": "light"
     },
     "output_type": "display_data"
    }
   ],
   "source": [
    "# KONSTANTE\n",
    "dt = 0.01       # časovni korak [s]\n",
    "t_total = 10    # celotni čas 10s\n",
    "a_0 = -3          # trenutni pospešek \n",
    "v_0 = 10          # trenutni pospešek \n",
    "\n",
    "# imeli bomo 4 stolpce, \n",
    "data = np.empty((0,3))\n",
    "t = 0             # trenutni čas \n",
    "v = v_0           # trenutna hitrost\n",
    "s = 0             # trenutna pot\n",
    "\n",
    "# zanko poganjamo dokler ne simuliramo celotnega časa \n",
    "while t <= t_total:\n",
    "    # pospešsk --> hitrost\n",
    "    v += a_0*dt # v = const\n",
    "\n",
    "    # hitrost --> pot\n",
    "    s += v * dt   # pot se enakomerno povečuje\n",
    "\n",
    "    # podatki ene iteracije so ena vrstica vrstico\n",
    "    vrstica = np.array([t, v, s])\n",
    "\n",
    "    # vrstico dodamo k podatkom\n",
    "    data = np.vstack((data, vrstica))\n",
    "    \n",
    "    # čas povečamo za dt in začnemo novo iteracijo\n",
    "    t += dt\n",
    "\n",
    "    # ker je enakomerno pojemajoče gibanje, se objekt\n",
    "    # ustavi, kadar je hitrost 0\n",
    "    if v <= 0:\n",
    "        break\n",
    "\n",
    "# podatke transponiramo, da lažje dostopamo do stolpcev\n",
    "t_arr = data.T[0]  \n",
    "# a_arr = data.T[1]  \n",
    "v_arr = data.T[1]  \n",
    "s_arr = data.T[2]  \n",
    "\n",
    "# IZRIŠEMO PODATKE\n",
    "figure, ax = plt.subplots()\n",
    "\n",
    "ax.plot(t_arr, v_arr, label = 'v [m/s]')\n",
    "ax.plot(t_arr, s_arr, label = 's [m]')\n",
    "\n",
    "ax.legend()\n",
    "\n",
    "ax.set_ylabel('velocity v , distance s')\n",
    "ax.set_xlabel('t[s]')\n",
    "\n",
    "# grid na vse grafe\n",
    "plt.grid()\n",
    "\n",
    "# razmiki\n",
    "plt.tight_layout()\n",
    "# display\n",
    "plt.show()\n"
   ]
  },
  {
   "cell_type": "markdown",
   "metadata": {},
   "source": [
    "# NE-ENAKOMERNO POSPEŠENO GIBANJE\n",
    "\n",
    "ZAKAJ SE V GIMNAZIJI NE UČIMO NE-ENAKOMERNO POSPEŠENEGA GIBANJA... KER GA JE TEORETIČNO ZELO TEŽKO RAČUNATI\n",
    "\n",
    "Pri različnih pospeških je vsaka časovni trenutek odvisen od trenutka pred njim, zato je včasih potrebno simulacije delati v for/while zanki.\n",
    "\n",
    "\\begin{equation*}\n",
    "    \\begin{array}{l}\n",
    "\n",
    "    a = not const  & \\text{ ... acceleration} \\\\\n",
    "    v = a*t &  \\text{ ... velocity} \\\\\n",
    "    s = s_0 + v_0*t+0.5*a*t^2  & \\text{ ...path}\\\\   \n",
    "\n",
    "    \\end{array}\n",
    "\\end{equation*}"
   ]
  },
  {
   "cell_type": "markdown",
   "metadata": {},
   "source": [
    "### NALOGA: Pospešujočemu avtomobilu dodamo zračni upor\n",
    "Zračni upor se povečuje s kvadratom hitrosti zraka"
   ]
  },
  {
   "cell_type": "code",
   "execution_count": 39,
   "metadata": {},
   "outputs": [
    {
     "name": "stdout",
     "output_type": "stream",
     "text": [
      "st_tock = 300.0\n"
     ]
    },
    {
     "data": {
      "image/png": "[encoded data removed]",
      "text/plain": [
       "<Figure size 360x576 with 3 Axes>"
      ]
     },
     "metadata": {
      "needs_background": "light"
     },
     "output_type": "display_data"
    }
   ],
   "source": [
    "# vhodni podatki za izračun\n",
    "dt = 0.1       # časovni korak 100ms [s]\n",
    "t_total = 30   # celotni čas 1min = 60s\n",
    "st_tock = t_total/dt\n",
    "print(f'st_tock = {st_tock}')\n",
    "\n",
    "a_0 = 3  # začetni pospešek [m/s^2]\n",
    "v_0 = 0  # začetna hitrost [m/s]\n",
    "\n",
    "# imeli bomo 3 stolpce, \n",
    "data = np.empty((0,4))\n",
    "t = 0               # trenutni čas \n",
    "v = 0               # trenutna hitrost\n",
    "s = 0               # trenutna pot\n",
    "\n",
    "# zanko poganjamo dokler ne simuliramo celotnega časa \n",
    "while t <= t_total:\n",
    "\n",
    "    # poenostavljen začni upor, drag force \n",
    "    f_drag = 1.2 * v**2   # sila zračnega upora je odvisna od kvadrata hitrosti zraka\n",
    "    a_drag = f_drag / 500 # pospešek = sila / masa\n",
    "\n",
    "    # ob vsakem trenutku, je različen pospešek\n",
    "    # osnovni pospešek - zračni upor\n",
    "    a = a_0 - a_drag\n",
    "\n",
    "    # pospešek --> hitrost\n",
    "    v = v + a*dt # v = const\n",
    "\n",
    "    # hitrost --> pot\n",
    "    s = s + v * dt   # pot se enakomerno povečuje\n",
    "\n",
    "    # podatki ene iteracije so ena vrstica vrstico\n",
    "    vrstica = np.array([t, a, v, s])\n",
    "\n",
    "    # vrstico dodamo k podatkom\n",
    "    data = np.vstack((data, vrstica))\n",
    "    \n",
    "    # čas povečamo za dt in začnemo novo iteracijo\n",
    "    t += dt\n",
    "\n",
    "# podatke transponiramo, da lažje dostopamo do stolpcev\n",
    "t_arr = data.T[0]  \n",
    "a_arr = data.T[1]  \n",
    "v_arr = data.T[2]  \n",
    "s_arr = data.T[3]  \n",
    "\n",
    "plot_pos_hit_pot(t_arr, a_arr, v_arr, s_arr)\n",
    "\n",
    "# # IZRIŠEMO PODATKE\n",
    "# figure, ax = plt.subplots(3,1)\n",
    "\n",
    "# ax[0].plot(t_arr, a_arr, 'b', label = 'a [m/s^2]')\n",
    "# ax[1].plot(t_arr, v_arr, 'r', label = 'v [m/s]')\n",
    "# ax[2].plot(t_arr, s_arr, 'black', label = 's [m]')\n",
    "\n",
    "# ax[0].legend()\n",
    "# ax[1].legend()\n",
    "# ax[2].legend()\n",
    "\n",
    "# # grid na vse grafe\n",
    "# plt.grid()\n",
    "# # razmiki\n",
    "# plt.tight_layout()\n",
    "# # display\n",
    "# plt.show()"
   ]
  },
  {
   "cell_type": "markdown",
   "metadata": {},
   "source": [
    "# OPAŽANJA NALOGE\n",
    "- avto je pospeševal do hitrosti 30m/s cca 100km/h, potem je postal zračni upor tako močan da se je izenačil z močjo motorja in je avto začel voziti pri konstantni hitrosti\n",
    "- tudi prevožena pot se je na začetku eksponentno povečevala, potem pa samo še linearno"
   ]
  },
  {
   "cell_type": "code",
   "execution_count": 38,
   "metadata": {},
   "outputs": [],
   "source": [
    "def plot_pos_hit_pot(t_arr, a_arr, v_arr, s_arr):\n",
    "    # IZRIŠEMO PODATKE\n",
    "    figure, axis = plt.subplots(3, 1)\n",
    "    figure.set_size_inches(5, 8)\n",
    "\n",
    "    # graf pospeška\n",
    "    axis[0].plot(t_arr, a_arr)\n",
    "    axis[0].set_title(\"pospešek\")\n",
    "    axis[0].set_ylabel('m / s^2')\n",
    "    axis[0].set_xlabel('t[s]')\n",
    "\n",
    "    # graf hitrosti\n",
    "    axis[1].plot(t_arr, v_arr)\n",
    "    axis[1].set_title(\"hitrost\")\n",
    "    axis[1].set_ylabel('m / s')\n",
    "    axis[1].set_xlabel('t[s]')\n",
    "\n",
    "    # graf poti\n",
    "    axis[2].plot(t_arr, s_arr)\n",
    "    axis[2].set_title(\"pot\")\n",
    "    axis[2].set_ylabel('m')\n",
    "    axis[2].set_xlabel('t[s]')\n",
    "\n",
    "    # grid na vse grafe\n",
    "    for ax in axis:\n",
    "        ax.grid(True)\n",
    "\n",
    "    # razmik med grafi\n",
    "    plt.tight_layout()\n",
    "    # display\n",
    "    plt.show()"
   ]
  },
  {
   "cell_type": "code",
   "execution_count": null,
   "metadata": {},
   "outputs": [],
   "source": []
  }
 ],
 "metadata": {
  "kernelspec": {
   "display_name": "Python 3",
   "language": "python",
   "name": "python3"
  },
  "language_info": {
   "codemirror_mode": {
    "name": "ipython",
    "version": 3
   },
   "file_extension": ".py",
   "mimetype": "text/x-python",
   "name": "python",
   "nbconvert_exporter": "python",
   "pygments_lexer": "ipython3",
   "version": "3.9.7"
  }
 },
 "nbformat": 4,
 "nbformat_minor": 1
}
