{
 "cells": [
  {
   "cell_type": "markdown",
   "metadata": {
    "nbgrader": {
     "grade": false,
     "grade_id": "jupyter",
     "locked": true,
     "schema_version": 3,
     "solution": false
    }
   },
   "source": [
    "For this problem set, we'll be using the Jupyter notebook:\n",
    "\n",
    "![](jupyter.png)"
   ]
  },
  {
   "cell_type": "code",
   "execution_count": null,
   "metadata": {},
   "outputs": [],
   "source": []
  },
  {
   "cell_type": "markdown",
   "metadata": {},
   "source": [
    "---\n",
    "## String variables and method print()\n",
    "\n",
    "Risanje Smrekic smrekice"
   ]
  },
  {
   "cell_type": "code",
   "execution_count": 4,
   "metadata": {},
   "outputs": [
    {
     "name": "stdout",
     "output_type": "stream",
     "text": [
      "* *\n",
      "*\n",
      "     *****\n"
     ]
    }
   ],
   "source": [
    "# Help\n",
    "    \n",
    "l = '*'     # leaf\n",
    "s = ' '     # space\n",
    "n = '\\n'    # new-line\n",
    "print(l+s+l+s+n)\n",
    "\n",
    "branch = 5*s + 5*l + n\n",
    "print(branch)"
   ]
  },
  {
   "cell_type": "markdown",
   "metadata": {},
   "source": [
    "#### Right Branch function"
   ]
  },
  {
   "cell_type": "code",
   "execution_count": 5,
   "metadata": {
    "nbgrader": {
     "grade": false,
     "grade_id": "squares",
     "locked": false,
     "schema_version": 3,
     "solution": true
    }
   },
   "outputs": [
    {
     "name": "stdout",
     "output_type": "stream",
     "text": [
      "*\n",
      "**\n",
      "***\n",
      "****\n",
      "*****\n"
     ]
    }
   ],
   "source": [
    "def right_branch():\n",
    "    \"\"\" vrni string, ki bo narisal desno smrekico visoko 5 vrstic\"\"\"\n",
    "    ### BEGIN SOLUTION\n",
    "    result = ''\n",
    "    ### END SOLUTION\n",
    "    return result\n",
    "\n",
    "print(right_branch())"
   ]
  },
  {
   "attachments": {
    "image.png": {
     "image/png": "[encoded data removed]"
    }
   },
   "cell_type": "markdown",
   "metadata": {},
   "source": [
    "#### Right branch expected result\n",
    "![image.png](.\\pics\\pine-tree-right-branch.png)"
   ]
  },
  {
   "cell_type": "markdown",
   "metadata": {},
   "source": [
    "## Leva smrekica"
   ]
  },
  {
   "cell_type": "code",
   "execution_count": 6,
   "metadata": {},
   "outputs": [
    {
     "name": "stdout",
     "output_type": "stream",
     "text": [
      "    *\n",
      "   **\n",
      "  ***\n",
      " ****\n",
      "*****\n",
      "\n"
     ]
    }
   ],
   "source": [
    "def leva_smrekica():\n",
    "    \"\"\" vrni string, ki bo narisal levo smrekico visoko 5 vrstic\"\"\"\n",
    "    ### BEGIN SOLUTION\n",
    "    result = ''\n",
    "    ### END SOLUTION\n",
    "    return result\n",
    "\n",
    "print(leva_smrekica())"
   ]
  },
  {
   "attachments": {
    "image.png": {
     "image/png": "[encoded data removed]"
    }
   },
   "cell_type": "markdown",
   "metadata": {},
   "source": [
    "## Result\n",
    "![image.png](attachment:image.png)\n"
   ]
  },
  {
   "cell_type": "markdown",
   "metadata": {},
   "source": [
    "## Celotna smrekica"
   ]
  },
  {
   "cell_type": "code",
   "execution_count": 7,
   "metadata": {},
   "outputs": [
    {
     "name": "stdout",
     "output_type": "stream",
     "text": [
      "    *\n",
      "   ***\n",
      "  *****\n",
      " *******\n",
      "*********\n",
      "\n"
     ]
    }
   ],
   "source": [
    "def smrekica():\n",
    "    \"\"\" vrni string, ki bo narisal smrekico visoko 5 vrstic\"\"\"\n",
    "    ### BEGIN SOLUTION\n",
    "    result = ''\n",
    "    ### END SOLUTION\n",
    "    return result\n",
    "\n",
    "print(smrekica())"
   ]
  },
  {
   "attachments": {
    "image.png": {
     "image/png": "[encoded data removed]"
    }
   },
   "cell_type": "markdown",
   "metadata": {},
   "source": [
    "## Result\n",
    "![image.png](attachment:image.png)"
   ]
  },
  {
   "cell_type": "markdown",
   "metadata": {},
   "source": [
    "## Kvadrat"
   ]
  },
  {
   "cell_type": "code",
   "execution_count": 63,
   "metadata": {},
   "outputs": [
    {
     "name": "stdout",
     "output_type": "stream",
     "text": [
      "#####\n",
      "#####\n",
      "#####\n",
      "#####\n",
      "#####\n",
      "\n"
     ]
    }
   ],
   "source": [
    "def kvadrat(n_vrstic):\n",
    "    \"\"\" vrni string, ki bo narisal kvadrat v velikost n_vrstic\"\"\"\n",
    "    ### BEGIN SOLUTION\n",
    "    result = ''\n",
    "    ### END SOLUTION\n",
    "    return result\n",
    "\n",
    "print(kvadrat(5))"
   ]
  },
  {
   "attachments": {
    "image.png": {
     "image/png": "[encoded data removed]"
    }
   },
   "cell_type": "markdown",
   "metadata": {},
   "source": [
    "## Result\n",
    "![image.png](attachment:image.png)"
   ]
  },
  {
   "cell_type": "markdown",
   "metadata": {},
   "source": [
    "# Prazen Kvadrat"
   ]
  },
  {
   "cell_type": "code",
   "execution_count": 16,
   "metadata": {},
   "outputs": [
    {
     "name": "stdout",
     "output_type": "stream",
     "text": [
      "#####\n",
      "#   #\n",
      "#   #\n",
      "#   #\n",
      "#####\n",
      "\n"
     ]
    }
   ],
   "source": [
    "def prazen_kvadrat(n_vrstic):\n",
    "    \"\"\" vrni string, ki bo narisal kvadrat v velikost n_vrstic\"\"\"\n",
    "    ### BEGIN SOLUTION\n",
    "    result = ''\n",
    "    ### END SOLUTION\n",
    "    return result\n",
    "\n",
    "print(prazen_kvadrat(5))"
   ]
  },
  {
   "attachments": {
    "image-2.png": {
     "image/png": "[encoded data removed]"
    }
   },
   "cell_type": "markdown",
   "metadata": {},
   "source": [
    "## Result\n",
    "![image-2.png](attachment:image-2.png)"
   ]
  },
  {
   "cell_type": "markdown",
   "metadata": {},
   "source": [
    "# Šahovnica"
   ]
  },
  {
   "cell_type": "code",
   "execution_count": 61,
   "metadata": {},
   "outputs": [
    {
     "name": "stdout",
     "output_type": "stream",
     "text": [
      "# # #\n",
      " # # \n",
      "# # #\n",
      " # # \n",
      "# # #\n",
      "\n"
     ]
    }
   ],
   "source": [
    "def sahovnica(n_vrstic):\n",
    "    \"\"\" vrni string, ki bo narisal kvadrat v velikost n_vrstic\"\"\"\n",
    "    ### BEGIN SOLUTION\n",
    "    result = ''\n",
    "    ### END SOLUTION\n",
    "    return result\n",
    "\n",
    "print(sahovnica(5))"
   ]
  },
  {
   "cell_type": "markdown",
   "metadata": {},
   "source": [
    "![](exercises\\pics\\sahovnica.png)"
   ]
  },
  {
   "cell_type": "markdown",
   "metadata": {},
   "source": []
  }
 ],
 "metadata": {
  "kernelspec": {
   "display_name": "Python 3 (ipykernel)",
   "language": "python",
   "name": "python3"
  },
  "language_info": {
   "codemirror_mode": {
    "name": "ipython",
    "version": 3
   },
   "file_extension": ".py",
   "mimetype": "text/x-python",
   "name": "python",
   "nbconvert_exporter": "python",
   "pygments_lexer": "ipython3",
   "version": "3.9.7"
  }
 },
 "nbformat": 4,
 "nbformat_minor": 1
}
