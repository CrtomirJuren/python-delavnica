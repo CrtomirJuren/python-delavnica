{
 "cells": [
  {
   "cell_type": "code",
   "execution_count": 14,
   "id": "4f96afe5-c893-4990-a79c-961afa219918",
   "metadata": {},
   "outputs": [
    {
     "name": "stdout",
     "output_type": "stream",
     "text": [
      "vsebujem 1 in 2\n",
      "3\n"
     ]
    }
   ],
   "source": [
    "# ustvari razred - class\n",
    "class ImeObjekta(object):\n",
    "    def __init__(self, var_a, var_b):\n",
    "        self.var_a = var_a\n",
    "        self.var_b = var_b\n",
    "\n",
    "    def sestej (self):\n",
    "        return self.var_a + self.var_b\n",
    "    \n",
    "    def __str__(self):\n",
    "        return f'vsebujem {str(self.var_a)} in {str(self.var_b)}'\n",
    "        \n",
    "imeObjekta = ImeObjekta(1,2)\n",
    "print(imeObjekta)\n",
    "print(imeObjekta.sestej())"
   ]
  },
  {
   "cell_type": "code",
   "execution_count": 15,
   "id": "58f012b2-1e7d-46fe-815b-0ef8daf596e4",
   "metadata": {},
   "outputs": [
    {
     "name": "stdout",
     "output_type": "stream",
     "text": [
      "Janez Novak\n"
     ]
    },
    {
     "ename": "TypeError",
     "evalue": "__str__ returned non-string (type NoneType)",
     "output_type": "error",
     "traceback": [
      "\u001b[1;31m---------------------------------------------------------------------------\u001b[0m",
      "\u001b[1;31mTypeError\u001b[0m                                 Traceback (most recent call last)",
      "\u001b[1;32m~\\AppData\\Local\\Temp/ipykernel_3204/1076061161.py\u001b[0m in \u001b[0;36m<module>\u001b[1;34m\u001b[0m\n\u001b[0;32m      1\u001b[0m \u001b[1;31m# Naloga ustvari razred Uporabnik, ki prejme ime in priimek\u001b[0m\u001b[1;33m\u001b[0m\u001b[1;33m\u001b[0m\u001b[0m\n\u001b[0;32m      2\u001b[0m \u001b[0muporabnik\u001b[0m \u001b[1;33m=\u001b[0m \u001b[0mUporabnik\u001b[0m\u001b[1;33m(\u001b[0m\u001b[1;34m'Janez'\u001b[0m\u001b[1;33m,\u001b[0m\u001b[1;34m'Novak'\u001b[0m\u001b[1;33m)\u001b[0m\u001b[1;33m\u001b[0m\u001b[1;33m\u001b[0m\u001b[0m\n\u001b[1;32m----> 3\u001b[1;33m \u001b[0mprint\u001b[0m\u001b[1;33m(\u001b[0m\u001b[0muporabnik\u001b[0m\u001b[1;33m)\u001b[0m \u001b[1;31m#result Moje polno ime je Janez Novak\u001b[0m\u001b[1;33m\u001b[0m\u001b[1;33m\u001b[0m\u001b[0m\n\u001b[0m",
      "\u001b[1;31mTypeError\u001b[0m: __str__ returned non-string (type NoneType)"
     ]
    }
   ],
   "source": [
    "# Naloga ustvari razred Uporabnik, ki prejme ime in priimek\n",
    "uporabnik = Uporabnik('Janez','Novak')\n",
    "print(uporabnik) #result Moje polno ime je Janez Novak"
   ]
  },
  {
   "cell_type": "code",
   "execution_count": 16,
   "id": "cd02e6f6-dd07-4349-8a03-65850f34c5d5",
   "metadata": {},
   "outputs": [],
   "source": [
    "# Naredi class Kalkulator.\n",
    "# input sta dve številki\n",
    "# metode pa - seštej, odštej, deli, pomnoži"
   ]
  },
  {
   "cell_type": "code",
   "execution_count": null,
   "id": "c17f3a9f-1266-4e2d-be29-efb108c6484f",
   "metadata": {},
   "outputs": [],
   "source": [
    "# Naredi class. ki odpre datoteko, jo prebere avtomobile in analizira, št znamk, število vseh avtomobilov, itd.. število rdečih\n",
    "# bazaAvtomobilov = BazaAvtomobilov(filepath) \n",
    "print(bazaAvtomobilov.import())\n",
    "print(bazaAvtomobilov.analiziraj())\n",
    "print(bazaAvtomobilov.get_analiza())\n",
    "print(bazaAvtomobilov.vseh)\n",
    "print(bazaAvtomobilov.rdeci)\n"
   ]
  }
 ],
 "metadata": {
  "kernelspec": {
   "display_name": "Python 3 (ipykernel)",
   "language": "python",
   "name": "python3"
  },
  "language_info": {
   "codemirror_mode": {
    "name": "ipython",
    "version": 3
   },
   "file_extension": ".py",
   "mimetype": "text/x-python",
   "name": "python",
   "nbconvert_exporter": "python",
   "pygments_lexer": "ipython3",
   "version": "3.9.7"
  }
 },
 "nbformat": 4,
 "nbformat_minor": 5
}
