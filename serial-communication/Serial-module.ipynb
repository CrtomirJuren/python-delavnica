{
 "cells": [
  {
   "cell_type": "markdown",
   "id": "dab194bb-49a3-4bd1-8a12-c6d6856baa93",
   "metadata": {},
   "source": [
    "# Serial Module"
   ]
  },
  {
   "cell_type": "code",
   "execution_count": 40,
   "id": "df7bbb1b-5ea9-47f0-a587-8b8f747c31d1",
   "metadata": {},
   "outputs": [],
   "source": [
    "# Imports\n",
    "import time\n",
    "import serial\n",
    "import serial.tools.list_ports"
   ]
  },
  {
   "cell_type": "code",
   "execution_count": 48,
   "id": "b7c78ec3-e8e2-4800-8d48-4871fc4b57eb",
   "metadata": {},
   "outputs": [],
   "source": [
    "# MAIN FUNCTIONS \n",
    "\n",
    "#list available serial ports\n",
    "def get_ports():\n",
    "    \"\"\" get a list of all active ports on PC \"\"\"\n",
    "    ports = serial.tools.list_ports.comports()\n",
    "    return ports\n",
    "\n",
    "def findArduino(portsFound):\n",
    "    #initialize variables\n",
    "    commPort='none'\n",
    "    numConnections = len(portsFound)\n",
    "\n",
    "    for i in range(0,numConnections):\n",
    "        port = portsFound[i]\n",
    "        strPort = str(port)\n",
    "\n",
    "    if numConnections == 0:\n",
    "        strPort = \"\"\n",
    "\n",
    "    #search string in port names and split it\n",
    "    \"\"\"\n",
    "    DEFAULT STRING NAME OF ARDUINO PORT\n",
    "    COM3 - Arduino Uno\n",
    "    we split by spaces\n",
    "    list[]=[COM3,-,Arduino,Uno]\n",
    "    list[0] = COM3\n",
    "    \"\"\"\n",
    "    if 'Arduino' in strPort:\n",
    "        splitPort = strPort.split(' ')\n",
    "        commPort = (splitPort[0])\n",
    "    else:\n",
    "        commPort = None\n",
    "    return commPort\n",
    "\n",
    "def open_serial(arduino_port_name):\n",
    "    # INITIALIZE CONNECTION\n",
    "    port = serial.Serial(\n",
    "        arduino_port_name,\n",
    "        baudrate=9600,\n",
    "        parity=serial.PARITY_NONE,\n",
    "        stopbits=serial.STOPBITS_ONE,\n",
    "        bytesize=serial.EIGHTBITS,\n",
    "        timeout=1\n",
    "    )\n",
    "    \n",
    "    # wait for connection to be established\n",
    "    time.sleep(2)\n",
    "\n",
    "    port.flush()\n",
    "    port.flushInput()\n",
    "    port.flushOutput()\n",
    "    print(\"Port is open\")\n",
    "    \n",
    "    return port\n",
    "\n",
    "def read_serial(port):\n",
    "    \"\"\"\n",
    "    Če med branjem pride do prekinitve povezave javi to napako:\n",
    "    SerialException: ClearCommError failed \n",
    "    (PermissionError(13, 'The device does not recognize the command.', None, 22))\n",
    "\n",
    "    Returns\n",
    "    -------\n",
    "    rx_string : TYPE\n",
    "        DESCRIPTION.\n",
    "\n",
    "    \"\"\"\n",
    "    rx_string_n = port.readline().decode('ascii') #RESULT = 453\n",
    "    rx_string = rx_string_n.rstrip() \n",
    "    \n",
    "    return rx_string\n",
    "\n",
    "def close_serial(port):\n",
    "    \"\"\" close connection to port, release resources \"\"\"\n",
    "    port.flush()\n",
    "    port.flushInput()\n",
    "    port.flushOutput()\n",
    "    port.close()\n",
    "    print(\"Port is closed\")\n"
   ]
  },
  {
   "cell_type": "code",
   "execution_count": 50,
   "id": "45474e6c-f44c-476d-8600-69ca3f064522",
   "metadata": {},
   "outputs": [
    {
     "name": "stdout",
     "output_type": "stream",
     "text": [
      "PC COM ports = 1\n",
      "COM8 - Arduino Uno (COM8)\n",
      "COM8\n",
      "Arduino found on COM8\n",
      "Port is open\n",
      "waiting for pc to connect\n",
      "waiting for pc to connect\n",
      "waiting for pc to connect\n",
      "waiting for pc to connect\n",
      "waiting for pc to connect\n",
      "Port is closed\n"
     ]
    }
   ],
   "source": [
    "# LIST ALL SERIAL PORTS ON PC\n",
    "isConnected = False\n",
    "\n",
    "ports_list = get_ports()\n",
    "print(f\"PC COM ports = {len(ports_list)}\") \n",
    "# print out found ports\n",
    "for port in ports_list:\n",
    "    print(port)\n",
    "\n",
    "# CHECK IF ANY PORT IS ARDUINO\n",
    "arduino_port_name = findArduino(ports_list)\n",
    "print(arduino_port_name)\n",
    "\n",
    "if arduino_port_name == None:\n",
    "    print(\"Arduino not found\")\n",
    "else:\n",
    "    print(\"Arduino found on \" + str(arduino_port_name))\n",
    "    isConnected = True\n",
    "\n",
    "if isConnected:\n",
    "    # CREATE PORT\n",
    "    port = open_serial(arduino_port_name)\n",
    "    for i in range(5):\n",
    "        try:\n",
    "            data = read_serial(port)\n",
    "            print(data)\n",
    "            time.sleep(1)\n",
    "            \n",
    "        except serial.SerialException:\n",
    "            print('napaka med branjem podatkov!')\n",
    "            close_serial(port)\n",
    "                \n",
    "    close_serial(port)"
   ]
  },
  {
   "cell_type": "code",
   "execution_count": 39,
   "id": "a8384039-ed89-4ce4-91d3-5c4710ac2518",
   "metadata": {},
   "outputs": [],
   "source": [
    "# OPEN PORT\n"
   ]
  },
  {
   "cell_type": "code",
   "execution_count": null,
   "id": "4b3e1fcf-7b85-462b-ab7f-305d97c39c51",
   "metadata": {},
   "outputs": [],
   "source": [
    "# READ FROM PORT"
   ]
  },
  {
   "cell_type": "code",
   "execution_count": null,
   "id": "0becd72c-d889-40c7-be9f-20183880cd51",
   "metadata": {},
   "outputs": [],
   "source": [
    "# CLOSE PORT"
   ]
  }
 ],
 "metadata": {
  "kernelspec": {
   "display_name": "delavnica-arduino",
   "language": "python",
   "name": "delavnica-arduino"
  },
  "language_info": {
   "codemirror_mode": {
    "name": "ipython",
    "version": 3
   },
   "file_extension": ".py",
   "mimetype": "text/x-python",
   "name": "python",
   "nbconvert_exporter": "python",
   "pygments_lexer": "ipython3",
   "version": "3.8.12"
  }
 },
 "nbformat": 4,
 "nbformat_minor": 5
}
